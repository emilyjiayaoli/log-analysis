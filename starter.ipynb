{
 "cells": [
  {
   "cell_type": "code",
   "execution_count": 40,
   "metadata": {},
   "outputs": [],
   "source": [
    "import os.path\n",
    "from llama_index.core import (\n",
    "    VectorStoreIndex,\n",
    "    SimpleDirectoryReader,\n",
    "    StorageContext,\n",
    "    load_index_from_storage,\n",
    ")\n",
    "\n",
    "# check if storage already exists\n",
    "PERSIST_DIR = \"./storage\"\n",
    "if not os.path.exists(PERSIST_DIR):\n",
    "    # load the documents and create the index\n",
    "    documents = SimpleDirectoryReader(\"data\").load_data()\n",
    "    index = VectorStoreIndex.from_documents(documents)\n",
    "    # store it for later\n",
    "    index.storage_context.persist(persist_dir=PERSIST_DIR)\n",
    "else:\n",
    "    # load the existing index\n",
    "    storage_context = StorageContext.from_defaults(persist_dir=PERSIST_DIR)\n",
    "    index = load_index_from_storage(storage_context)"
   ]
  },
  {
   "cell_type": "code",
   "execution_count": 41,
   "metadata": {},
   "outputs": [
    {
     "name": "stdout",
     "output_type": "stream",
     "text": [
      "This documentation provides detailed information on various aspects of networking and building applications, specifically focusing on Ursina, a game engine. It includes sections on different networking concepts such as sending game state, client and server authoritative models, deterministic lockstep, snapshot interpolation, server-side lag compensation, and client-side prediction. Additionally, it covers practical aspects of building and releasing applications, offering guidance on using tools like ursina.build, Nuitka, and auto-py-to-exe. The documentation also features tutorials, including an introduction and a platformer tutorial, to help users get started with Ursina. There are also references and a FAQ section to address common questions and provide further resources.\n"
     ]
    }
   ],
   "source": [
    "# Either way we can now query the index\n",
    "\n",
    "from llama_index.multi_modal_llms.openai import OpenAIMultiModal\n",
    "from llama_index.llms.openai import OpenAI\n",
    "\n",
    "from llama_index.core import Settings\n",
    "# Settings.llm = OpenAIMultiModal(model=\"gpt-4o\", max_new_tokens=4096)\n",
    "# # OpenAI(temperature=0.2, model=\"gpt-4\")\n",
    "Settings.llm = OpenAI(temperature=0.2, model=\"gpt-4o\")\n",
    "\n",
    "query_engine = index.as_query_engine()\n",
    "\n",
    "response = query_engine.query(\"What is this documentation about? Explain in detail\")\n",
    "print(response)"
   ]
  },
  {
   "cell_type": "code",
   "execution_count": 53,
   "metadata": {},
   "outputs": [
    {
     "data": {
      "text/plain": [
       "'<!DOCTYPE HTML>\\n        <!--generated with sswg-->\\n        <html lang=\"en\">\\n        <meta name=\"viewport\" content=\"width=device-width, initial-scale=1.0\">\\n        <head>\\n            <title> ursina engine documentation</title>\\n            <link rel=\"stylesheet\" href=\"sswg.css\">\\n            <link rel=\"stylesheet\" href=\"style.css\">\\n            <link rel=\"icon\" type=\"image/x-icon\" href=\"favicon.ico\">\\n        </head>\\n        <body>\\n        <left><div style=\"max-width: 1200px; margin: auto;\">\\n<br>\\n<a href=\"index.html\"><img src=\"ursina_logo_wireframe.webp\" style=\"width:50px; height:auto; margin-right:10px;\"/></a> <a href=\" installation.html\" class=\"button\">Download</a> <a href=\" documentation.html\" class=\"button\">Documentation</a> <a href=\" api_reference.html\" class=\"button\">API Reference</a> <a href=\" samples.html\" class=\"button\">Samples</a> <a href=\" asset_store.html\" class=\"button\">Asset Store</a> <a href=\" https://github.com/sponsors/pokepetter\" class=\"button\">Donate🡕</a><br>\\n<br>\\n<div style=\"font-size: 60.0px;font-weight: bold;\">\\n<div id=\"Tic Tac Toe\"/><br>\\nTic Tac Toe<br>\\n<div style=\"font-size: 20.0px;font-weight: normal;\">\\n<a href=\"https://github.com/pokepetter/ursina/blob/master/samples/tic_tac_toe.py\">https://github.com/pokepetter/ursina/blob/master/samples/tic_tac_toe.py</a><br>\\n<br>\\n<img src=\"icons/tic_tac_toe.jpg\"></img> <br>\\n<div class=\"code_block\" id=\"code_block_0\" style=\"margin-left: 0em;\"><button class=\"copy_code_button\" onclick=\"copy_to_clipboard(code_block_0)\">copy</button>\\n<purple>if</purple> __name__ == <green>\\'__main__\\'</green>:\\n    app = Ursina()\\n\\ncamera.orthographic = True\\ncamera.fov = <yellow>4</yellow>\\ncamera.position = (<yellow>1</yellow>, <yellow>1</yellow>)\\nText.default_resolution *= <yellow>2</yellow>\\n\\nplayer = <olive>Entity</olive>(name=<green>\\'o\\'</green>, <olive>color</olive>=color.azure)\\ncursor = Tooltip(player.name, <olive>color</olive>=player.color, <olive>origin</olive>=(<yellow>0</yellow>,<yellow>0</yellow>), <olive>scale</olive>=<yellow>4</yellow>, <olive>enabled</olive>=True)\\ncursor.background.color = color.clear\\nbg = <olive>Entity</olive>(<olive>parent</olive>=scene, <olive>model</olive>=<green>\\'quad\\'</green>, <olive>texture</olive>=<green>\\'shore\\'</green>, <olive>scale</olive>=(<yellow>1</yellow><yellow>6</yellow>,<yellow>8</yellow>), <olive>z</olive>=<yellow>1</yellow><yellow>0</yellow>, <olive>color</olive>=color.light_gray)\\nmouse.visible = False\\n\\n<gray># create a matrix to store the buttons in.'"
      ]
     },
     "execution_count": 53,
     "metadata": {},
     "output_type": "execute_result"
    }
   ],
   "source": [
    "prompt = \"how to make a tictactoe\"\n",
    "response = query_engine.query(prompt)\n",
    "\n",
    "response.source_nodes[1].get_content()"
   ]
  },
  {
   "cell_type": "code",
   "execution_count": 54,
   "metadata": {},
   "outputs": [
    {
     "name": "stdout",
     "output_type": "stream",
     "text": [
      "2\n"
     ]
    }
   ],
   "source": [
    "print(len(response.source_nodes))"
   ]
  },
  {
   "cell_type": "code",
   "execution_count": null,
   "metadata": {},
   "outputs": [],
   "source": [
    "def ask(question):\n",
    "    response = query_engine.query(question)\n",
    "    print(\"RESPONSE\")\n",
    "    print(vars(response))\n",
    "    return response\n"
   ]
  },
  {
   "cell_type": "code",
   "execution_count": null,
   "metadata": {},
   "outputs": [],
   "source": [
    "print(ask(\"How can I make a tic tac toe game? Give me pointers to where in the documentation I should look\"))"
   ]
  },
  {
   "cell_type": "code",
   "execution_count": null,
   "metadata": {},
   "outputs": [],
   "source": [
    "print(ask(\"Give me a summary of all of the functionality in this documentation\"))"
   ]
  },
  {
   "cell_type": "code",
   "execution_count": null,
   "metadata": {},
   "outputs": [],
   "source": [
    "import pprint\n",
    "# pprint.pprint(p)\n",
    "p.keys()"
   ]
  }
 ],
 "metadata": {
  "kernelspec": {
   "display_name": "Python 3 (ipykernel)",
   "language": "python",
   "name": "python3"
  },
  "language_info": {
   "codemirror_mode": {
    "name": "ipython",
    "version": 3
   },
   "file_extension": ".py",
   "mimetype": "text/x-python",
   "name": "python",
   "nbconvert_exporter": "python",
   "pygments_lexer": "ipython3",
   "version": "3.9.13"
  }
 },
 "nbformat": 4,
 "nbformat_minor": 4
}
